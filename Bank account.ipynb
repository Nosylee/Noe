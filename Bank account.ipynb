{
 "cells": [
  {
   "cell_type": "code",
   "execution_count": 1,
   "metadata": {},
   "outputs": [
    {
     "name": "stdout",
     "output_type": "stream",
     "text": [
      "Deposited: $500.00\n",
      "Withdrew: $200.00\n",
      "Account Balance: $1300.00\n"
     ]
    }
   ],
   "source": [
    "class Account:\n",
    "    def __init__(self, account_number, account_holder, balance=0.0):\n",
    "        self.account_number = account_number\n",
    "        self.account_holder = account_holder\n",
    "        self.balance = balance\n",
    "    \n",
    "    def deposit(self, amount):\n",
    "        if amount > 0:\n",
    "            self.balance += amount\n",
    "            print(f\"Deposited: ${amount:.2f}\")\n",
    "            \n",
    "        else:\n",
    "            print(\"Deposit amount must be positive.\")\n",
    "    \n",
    "    def withdraw(self, amount):\n",
    "        if amount > 0 and amount <= self.balance:\n",
    "            self.balance -= amount\n",
    "            print(f\"Withdrew: ${amount:.2f}\")\n",
    "        else:\n",
    "            print(\"Insufficient funds or invalid amount.\")\n",
    "    \n",
    "    def display_balance(self):\n",
    "        print(f\"Account Balance: ${self.balance:.2f}\")\n",
    "\n",
    "# Example usage\n",
    "account = Account(\"12345678\", \"Nosy Omo\", 1000.0)\n",
    "account.deposit(500.0)\n",
    "account.withdraw(200.0)\n",
    "account.display_balance()"
   ]
  },
  {
   "cell_type": "code",
   "execution_count": 2,
   "metadata": {},
   "outputs": [
    {
     "name": "stdout",
     "output_type": "stream",
     "text": [
      "Deposited: $2000.00\n"
     ]
    }
   ],
   "source": [
    "account.deposit(2000)"
   ]
  },
  {
   "cell_type": "code",
   "execution_count": 3,
   "metadata": {},
   "outputs": [
    {
     "name": "stdout",
     "output_type": "stream",
     "text": [
      "Withdrew: $2500.00\n"
     ]
    }
   ],
   "source": [
    "account.withdraw(2500)"
   ]
  },
  {
   "cell_type": "code",
   "execution_count": 5,
   "metadata": {},
   "outputs": [
    {
     "name": "stdout",
     "output_type": "stream",
     "text": [
      "Account Balance: $800.00\n"
     ]
    }
   ],
   "source": [
    "account.display_balance()"
   ]
  },
  {
   "cell_type": "code",
   "execution_count": 1,
   "metadata": {},
   "outputs": [
    {
     "name": "stdout",
     "output_type": "stream",
     "text": [
      "Mean grade: 86.54545454545455\n",
      "Median grade: 89.0\n",
      "Standard deviation of grades: 6.760360888210257\n",
      "Maximum grade: 95\n",
      "Minimum grade: 75\n",
      "Sorted grades: [75 75 76 76 78 78 85 85 88 88 89 89 90 90 91 91 92 92 93 93 95 95]\n",
      "Index of highest grade: 3\n",
      "Number of students above 90: 8\n",
      "Percentage of students above 90: 36.36363636363637%\n",
      "Percentage of students below 75: 0.0%\n",
      "High performers: [92 95 91 93 92 95 91 93]\n",
      "Passing grades: [85 92 78 95 88 76 91 89 93 90 85 92 78 95 88 76 91 89 93 90]\n"
     ]
    }
   ],
   "source": [
    "import numpy as np\n",
    "\n",
    "grades = np.array([85, 92, 78, 95, 88, 76, 91, 89, 75, 93, 90, 85, 92, 78, 95, 88, 76, 91, 89, 75, 93, 90])\n",
    "\n",
    "mean_grade = np.mean(grades)\n",
    "print(f\"Mean grade: {mean_grade}\")\n",
    "\n",
    "median_grade = np.median(grades)\n",
    "print(f\"Median grade: {median_grade}\")\n",
    "\n",
    "std_deviation = np.std(grades)\n",
    "print(f\"Standard deviation of grades: {std_deviation}\")\n",
    "\n",
    "max_grade = np.max(grades)\n",
    "min_grade = np.min(grades)\n",
    "print(f\"Maximum grade: {max_grade}\")\n",
    "print(f\"Minimum grade: {min_grade}\")\n",
    "\n",
    "sorted_grades = np.sort(grades)\n",
    "\n",
    "print(f\"Sorted grades: {sorted_grades}\")\n",
    "\n",
    "index_of_highest_grade = np.argmax(grades)\n",
    "print(f\"Index of highest grade: {index_of_highest_grade}\")\n",
    "\n",
    "num_students_above_90 = np.sum(grades > 90)\n",
    "print(f\"Number of students above 90: {num_students_above_90}\")\n",
    "\n",
    "percentage_above_90 = np.mean(grades > 90) * 100\n",
    "print(f\"Percentage of students above 90: {percentage_above_90}%\")\n",
    "\n",
    "percentage_below_75 = np.mean(grades < 75) * 100\n",
    "print(f\"Percentage of students below 75: {percentage_below_75}%\")\n",
    "\n",
    "high_performers = grades[grades > 90]\n",
    "print(f\"High performers: {high_performers}\")\n",
    "\n",
    "passing_grades = grades[grades > 75]\n",
    "print(f\"Passing grades: {passing_grades}\")\n"
   ]
  },
  {
   "cell_type": "code",
   "execution_count": 9,
   "metadata": {},
   "outputs": [
    {
     "name": "stdout",
     "output_type": "stream",
     "text": [
      "Products Series:\n",
      "0     Apple\n",
      "1    Banana\n",
      "2    Carrot\n",
      "3    Daikon\n",
      "dtype: object\n"
     ]
    }
   ],
   "source": [
    "import pandas as pd\n",
    "\n",
    "products = ['Apple', 'Banana', 'Carrot', 'Daikon']\n",
    "\n",
    "products_series = pd.Series(products)\n",
    "print(\"Products Series:\")\n",
    "print(products_series)\n",
    "\n"
   ]
  },
  {
   "cell_type": "code",
   "execution_count": 3,
   "metadata": {},
   "outputs": [
    {
     "name": "stdout",
     "output_type": "stream",
     "text": [
      "\n",
      "Prices Series:\n",
      "0    2\n",
      "1    1\n",
      "2    3\n",
      "3    4\n",
      "dtype: int64\n"
     ]
    }
   ],
   "source": [
    "prices = [2, 1, 3, 4]\n",
    "prices_series = pd.Series(prices)\n",
    "print(\"\\nPrices Series:\")\n",
    "print(prices_series)"
   ]
  },
  {
   "cell_type": "code",
   "execution_count": 24,
   "metadata": {},
   "outputs": [
    {
     "name": "stdout",
     "output_type": "stream",
     "text": [
      "\n",
      "Combined Series:\n",
      "0     Apple  2\n",
      "1    Banana  1\n",
      "2    Carrot  3\n",
      "3    Daikon  4\n",
      "dtype: object\n"
     ]
    }
   ],
   "source": [
    "combined_series = products_series + \"  \"  +  prices_series.astype(str)\n",
    "print(\"\\nCombined Series:\")\n",
    "print(combined_series)"
   ]
  },
  {
   "cell_type": "code",
   "execution_count": 28,
   "metadata": {},
   "outputs": [
    {
     "name": "stdout",
     "output_type": "stream",
     "text": [
      "\n",
      "DataFrame from dictionary of lists:\n",
      "  Product  Price\n",
      "0   Apple      2\n",
      "1  Banana      1\n",
      "2  Carrot      3\n",
      "3  Daikon      4\n"
     ]
    }
   ],
   "source": [
    "data_dict = {\"Product\": products_series, \"Price\": prices_series}\n",
    "dataframe = pd.DataFrame(data_dict)\n",
    "print(\"\\nDataFrame from dictionary of lists:\")\n",
    "print(dataframe)"
   ]
  },
  {
   "cell_type": "code",
   "execution_count": 6,
   "metadata": {},
   "outputs": [],
   "source": [
    "data_list_dicts = [\n",
    "    {\"Product\": \"Apple\", \"Price\": 2},\n",
    "    {\"Product\": \"Banana\", \"Price\": 1},\n",
    "    {\"Product\": \"Carrot\", \"Price\": 3},\n",
    "    {\"Product\": \"Daikon\", \"Price\": 4}]"
   ]
  },
  {
   "cell_type": "code",
   "execution_count": 7,
   "metadata": {},
   "outputs": [
    {
     "name": "stdout",
     "output_type": "stream",
     "text": [
      "\n",
      "DataFrame from list of dictionaries:\n",
      "  Product  Price\n",
      "0   Apple      2\n",
      "1  Banana      1\n",
      "2  Carrot      3\n",
      "3  Daikon      4\n"
     ]
    }
   ],
   "source": [
    "dataframe_from_list_dicts = pd.DataFrame(data_list_dicts)\n",
    "print(\"\\nDataFrame from list of dictionaries:\")\n",
    "print(dataframe_from_list_dicts)"
   ]
  },
  {
   "cell_type": "markdown",
   "metadata": {},
   "source": [
    "# DataFrame Bracket Selection\n",
    "### We can select specific rows or columns from our DataFrame"
   ]
  },
  {
   "cell_type": "markdown",
   "metadata": {},
   "source": [
    "### Iloc\n",
    "\n",
    "### The iloc indexing method selects rows and columns depending on their integer position.\n",
    "\n",
    "### Syntax: df.iloc[row_index, column_index].\n",
    "\n",
    "### df.iloc[0] selects the first row.\n",
    "\n",
    "### df.iloc[:, 1]selects the second column.\n",
    "\n",
    "### df.iloc[1:3, 0:2]: Returns a subset of rows and columns (second and third rows, first and second columns).).\n"
   ]
  },
  {
   "cell_type": "markdown",
   "metadata": {},
   "source": [
    "# loc\n",
    "\n",
    "### loc is used for label-based indexing, which means you may choose rows and columns based on their labels (names).\n",
    "\n",
    "### Syntax is: df.loc[row_label, column_label].\n",
    "\n",
    "### Example: df.loc['row_label']: This selects the row with the supplied label.\n",
    "\n",
    "### df.loc[:, 'column_label']: This returns the column with the given label.\n",
    "\n",
    "### df.loc['row_label1':'row_label2', 'column_label1':'column_label2']: This returns a subset of rows and columns based on labels"
   ]
  },
  {
   "cell_type": "code",
   "execution_count": 29,
   "metadata": {},
   "outputs": [
    {
     "name": "stdout",
     "output_type": "stream",
     "text": [
      "Data Frame\n",
      "           A  B   C   D\n",
      "Jack       1  5   9  13\n",
      "Thomas     2  6  10  14\n",
      "Alexandre  3  7  11  15\n",
      "Anne       4  8  12  16\n"
     ]
    }
   ],
   "source": [
    "import pandas as pd\n",
    "\n",
    "data = {\n",
    "    'A': [1, 2, 3, 4],\n",
    "    'B': [5, 6, 7, 8],\n",
    "    'C': [9, 10, 11, 12],\n",
    "    'D': [13, 14, 15, 16]\n",
    "}\n",
    "names_ = pd.DataFrame(data, index=[\"Jack\", \"Thomas\", \"Alexandre\", \"Anne\"])\n",
    "print(\"Data Frame\")\n",
    "print(names_)"
   ]
  },
  {
   "cell_type": "code",
   "execution_count": 30,
   "metadata": {},
   "outputs": [
    {
     "name": "stdout",
     "output_type": "stream",
     "text": [
      "        A  B   C   D\n",
      "Jack    1  5   9  13\n",
      "Thomas  2  6  10  14\n"
     ]
    }
   ],
   "source": [
    "# Let's use loc to select the first and second rows\n",
    "rows_ = names_.loc[[\"Jack\", \"Thomas\"]]\n",
    "print(rows_)"
   ]
  },
  {
   "cell_type": "code",
   "execution_count": 31,
   "metadata": {},
   "outputs": [
    {
     "name": "stdout",
     "output_type": "stream",
     "text": [
      "           B   C\n",
      "Jack       5   9\n",
      "Thomas     6  10\n",
      "Alexandre  7  11\n",
      "Anne       8  12\n"
     ]
    }
   ],
   "source": [
    "# let's use iloc to select the second and third columns for all rows\n",
    "columns_ = names_.iloc[:, 1:3]\n",
    "print(columns_)"
   ]
  },
  {
   "cell_type": "code",
   "execution_count": 38,
   "metadata": {},
   "outputs": [
    {
     "name": "stdout",
     "output_type": "stream",
     "text": [
      "22.0 ** 3.0 = 10648.0\n"
     ]
    },
    {
     "ename": "ValueError",
     "evalue": "could not convert string to float: '\"exit\"'",
     "output_type": "error",
     "traceback": [
      "\u001b[1;31m---------------------------------------------------------------------------\u001b[0m",
      "\u001b[1;31mValueError\u001b[0m                                Traceback (most recent call last)",
      "Cell \u001b[1;32mIn[38], line 61\u001b[0m\n\u001b[0;32m     58\u001b[0m             \u001b[38;5;28mprint\u001b[39m(\u001b[38;5;124mf\u001b[39m\u001b[38;5;124m\"\u001b[39m\u001b[38;5;124mError: \u001b[39m\u001b[38;5;132;01m{\u001b[39;00m\u001b[38;5;28mstr\u001b[39m(e)\u001b[38;5;132;01m}\u001b[39;00m\u001b[38;5;124m\"\u001b[39m)\n\u001b[0;32m     60\u001b[0m \u001b[38;5;28;01mif\u001b[39;00m \u001b[38;5;18m__name__\u001b[39m \u001b[38;5;241m==\u001b[39m \u001b[38;5;124m\"\u001b[39m\u001b[38;5;124m__main__\u001b[39m\u001b[38;5;124m\"\u001b[39m:\n\u001b[1;32m---> 61\u001b[0m     \u001b[43mmain\u001b[49m\u001b[43m(\u001b[49m\u001b[43m)\u001b[49m\n",
      "Cell \u001b[1;32mIn[38], line 47\u001b[0m, in \u001b[0;36mmain\u001b[1;34m()\u001b[0m\n\u001b[0;32m     44\u001b[0m calculator\u001b[38;5;241m.\u001b[39madd_operation(\u001b[38;5;124m\"\u001b[39m\u001b[38;5;124mlog\u001b[39m\u001b[38;5;124m\"\u001b[39m, calculator\u001b[38;5;241m.\u001b[39mlogarithm)\n\u001b[0;32m     46\u001b[0m \u001b[38;5;28;01mwhile\u001b[39;00m \u001b[38;5;28;01mTrue\u001b[39;00m:\n\u001b[1;32m---> 47\u001b[0m     num1 \u001b[38;5;241m=\u001b[39m \u001b[38;5;28;43mfloat\u001b[39;49m\u001b[43m(\u001b[49m\u001b[38;5;28;43minput\u001b[39;49m\u001b[43m(\u001b[49m\u001b[38;5;124;43m\"\u001b[39;49m\u001b[38;5;124;43mEnter the first number: \u001b[39;49m\u001b[38;5;124;43m\"\u001b[39;49m\u001b[43m)\u001b[49m\u001b[43m)\u001b[49m\n\u001b[0;32m     48\u001b[0m     operation_symbol \u001b[38;5;241m=\u001b[39m \u001b[38;5;28minput\u001b[39m(\u001b[38;5;124m\"\u001b[39m\u001b[38;5;124mEnter the operation symbol (+, -, *, /, **, √, log): \u001b[39m\u001b[38;5;124m\"\u001b[39m)\n\u001b[0;32m     49\u001b[0m     num2 \u001b[38;5;241m=\u001b[39m \u001b[38;5;28mfloat\u001b[39m(\u001b[38;5;28minput\u001b[39m(\u001b[38;5;124m\"\u001b[39m\u001b[38;5;124mEnter the second number: \u001b[39m\u001b[38;5;124m\"\u001b[39m))\n",
      "\u001b[1;31mValueError\u001b[0m: could not convert string to float: '\"exit\"'"
     ]
    }
   ],
   "source": [
    "import math\n",
    "import operator\n",
    "\n",
    "class Calculator:\n",
    "    def __init__(self):\n",
    "        self.operations = {\n",
    "            \"+\": operator.add,\n",
    "            \"-\": operator.sub,\n",
    "            \"*\": operator.mul,\n",
    "            \"/\": operator.truediv\n",
    "        }\n",
    "\n",
    "    def add_operation(self, operation_symbol, function):\n",
    "        self.operations[operation_symbol] = function\n",
    "\n",
    "    def calculate(self, num1, operation_symbol, num2):\n",
    "        try:\n",
    "            if operation_symbol not in self.operations:\n",
    "                raise ValueError(\"Invalid operation symbol\")\n",
    "            if not isinstance(num1, (int, float)) or not isinstance(num2, (int, float)):\n",
    "                raise TypeError(\"Input values must be numbers\")\n",
    "            result = self.operations[operation_symbol](num1, num2)\n",
    "            return result\n",
    "        except ValueError as e:\n",
    "            print(f\"Error: {str(e)}\")\n",
    "            raise\n",
    "        except TypeError as e:\n",
    "            print(f\"Error: {str(e)}\")\n",
    "            raise\n",
    "\n",
    "    def exponentiate(self, num1, num2):\n",
    "        return num1 ** num2\n",
    "\n",
    "    def square_root(self, num1):\n",
    "        return math.sqrt(num1)\n",
    "\n",
    "    def logarithm(self, num1, num2):\n",
    "        return math.log(num1, num2)\n",
    "\n",
    "def main():\n",
    "    calculator = Calculator()\n",
    "    calculator.add_operation(\"**\", calculator.exponentiate)\n",
    "    calculator.add_operation(\"√\", calculator.square_root)\n",
    "    calculator.add_operation(\"log\", calculator.logarithm)\n",
    "\n",
    "    while True:\n",
    "        num1 = float(input(\"Enter the first number: \"))\n",
    "        operation_symbol = input(\"Enter the operation symbol (+, -, *, /, **, √, log): \")\n",
    "        num2 = float(input(\"Enter the second number: \"))\n",
    "\n",
    "        if operation_symbol == \"exit\":\n",
    "            break\n",
    "\n",
    "        try:\n",
    "            result = calculator.calculate(num1, operation_symbol, num2)\n",
    "            print(f\"{num1} {operation_symbol} {num2} = {result}\")\n",
    "        except Exception as e:\n",
    "            print(f\"Error: {str(e)}\")\n",
    "\n",
    "if __name__ == \"__main__\":\n",
    "    main()"
   ]
  }
 ],
 "metadata": {
  "kernelspec": {
   "display_name": "Python 3",
   "language": "python",
   "name": "python3"
  },
  "language_info": {
   "codemirror_mode": {
    "name": "ipython",
    "version": 3
   },
   "file_extension": ".py",
   "mimetype": "text/x-python",
   "name": "python",
   "nbconvert_exporter": "python",
   "pygments_lexer": "ipython3",
   "version": "3.12.3"
  }
 },
 "nbformat": 4,
 "nbformat_minor": 2
}
